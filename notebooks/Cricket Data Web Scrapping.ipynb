{
 "cells": [
  {
   "cell_type": "markdown",
   "id": "4409c3a5",
   "metadata": {},
   "source": [
    "# Importing the Webscrapping Libraries"
   ]
  },
  {
   "cell_type": "code",
   "execution_count": 1,
   "id": "9a098f41",
   "metadata": {},
   "outputs": [],
   "source": [
    "from selenium import webdriver\n",
    "from bs4 import BeautifulSoup\n",
    "import chromedriver_binary\n",
    "import requests\n",
    "import csv"
   ]
  },
  {
   "cell_type": "markdown",
   "id": "d1f9adf5",
   "metadata": {},
   "source": [
    "# Creating a Google Chrome Driver Engine"
   ]
  },
  {
   "cell_type": "code",
   "execution_count": 2,
   "id": "9071a503",
   "metadata": {},
   "outputs": [],
   "source": [
    "driver = webdriver.Chrome()"
   ]
  },
  {
   "cell_type": "markdown",
   "id": "278840be",
   "metadata": {},
   "source": [
    "# Collecting the Match Info Data"
   ]
  },
  {
   "cell_type": "markdown",
   "id": "cc9e18dd",
   "metadata": {},
   "source": [
    "## Using 3 URL's for gettting the Match Data\n",
    "### url1 = \"https://stats.espncricinfo.com/ci/engine/records/team/match_results.html?class=3;id=2020;type=year\"\n",
    "### url2 = \"https://stats.espncricinfo.com/ci/engine/records/team/match_results.html?class=3;id=2021;type=year\"\n",
    "### url3 = \"https://stats.espncricinfo.com/ci/engine/records/team/match_results.html?class=3;id=2022;type=year\""
   ]
  },
  {
   "cell_type": "code",
   "execution_count": 3,
   "id": "04833f71",
   "metadata": {},
   "outputs": [],
   "source": [
    "url = \"https://stats.espncricinfo.com/ci/engine/records/team/match_results.html?class=3;id=2020;type=year\"\n",
    "driver.get(url)"
   ]
  },
  {
   "cell_type": "markdown",
   "id": "5c95b919",
   "metadata": {},
   "source": [
    "## Using Beautifulsoup Library for converting the page into readable format"
   ]
  },
  {
   "cell_type": "code",
   "execution_count": 80,
   "id": "e1e1bf45",
   "metadata": {},
   "outputs": [],
   "source": [
    "page = BeautifulSoup(driver.page_source, 'html.parser')"
   ]
  },
  {
   "cell_type": "markdown",
   "id": "e9b7ea95",
   "metadata": {},
   "source": [
    "## Creating the program for getting the Match Info from the page and converting it into Dataframe"
   ]
  },
  {
   "cell_type": "code",
   "execution_count": 84,
   "id": "bdda1875",
   "metadata": {},
   "outputs": [
    {
     "name": "stdout",
     "output_type": "stream",
     "text": [
      "95 95 95 95 95 95 95\n"
     ]
    }
   ],
   "source": [
    "team1 = []\n",
    "team2 = []\n",
    "winner = []\n",
    "margin = []\n",
    "ground = []\n",
    "date = []\n",
    "link = []\n",
    "for i in lst:\n",
    "    team1.append(i[0].text)\n",
    "    team2.append(i[1].text)\n",
    "    winner.append(i[2].text)\n",
    "    margin.append(i[3].text)\n",
    "    ground.append(i[4].text)\n",
    "    date.append(i[5].text)\n",
    "    lnk = \"https://stats.espncricinfo.com\"+str(i[6].a['href'])\n",
    "    link.append(lnk)\n",
    "print(len(team1), len(team2), len(winner), len(margin), len(ground), len(date), len(link))\n",
    "dct = {'Team1':team1, 'Team2':team2, 'Winner':winner, 'Margin':margin, 'Ground':ground, 'Date':date, 'Link':link}\n",
    "data1 = pd.DataFrame(data=dct)"
   ]
  },
  {
   "cell_type": "markdown",
   "id": "c4e247a3",
   "metadata": {},
   "source": [
    "## Concatinating all the Dataframes together "
   ]
  },
  {
   "cell_type": "code",
   "execution_count": 86,
   "id": "ccf67168",
   "metadata": {},
   "outputs": [
    {
     "data": {
      "application/javascript": [
       "\n",
       "        if (window._pyforest_update_imports_cell) { window._pyforest_update_imports_cell('import pandas as pd'); }\n",
       "    "
      ],
      "text/plain": [
       "<IPython.core.display.Javascript object>"
      ]
     },
     "metadata": {},
     "output_type": "display_data"
    },
    {
     "data": {
      "text/plain": [
       "(954, 7)"
      ]
     },
     "execution_count": 86,
     "metadata": {},
     "output_type": "execute_result"
    }
   ],
   "source": [
    "data = pd.concat([data, data1], axis=0)\n",
    "data.shape"
   ]
  },
  {
   "cell_type": "markdown",
   "id": "a93ce883",
   "metadata": {},
   "source": [
    "## Saving that Data into csv format"
   ]
  },
  {
   "cell_type": "code",
   "execution_count": 176,
   "id": "ee7cdb61",
   "metadata": {},
   "outputs": [],
   "source": [
    "df.to_csv(\"Matchesinfo.csv\", index=False, index_label=False)"
   ]
  },
  {
   "cell_type": "markdown",
   "id": "de0c6633",
   "metadata": {},
   "source": [
    "# Collecting the Batting Info and bowling Info Data"
   ]
  },
  {
   "cell_type": "markdown",
   "id": "c734cba9",
   "metadata": {},
   "source": [
    "## Loading the Match Info Data"
   ]
  },
  {
   "cell_type": "code",
   "execution_count": 4,
   "id": "ebb847b8",
   "metadata": {},
   "outputs": [
    {
     "data": {
      "application/javascript": [
       "\n",
       "        if (window._pyforest_update_imports_cell) { window._pyforest_update_imports_cell('import pandas as pd'); }\n",
       "    "
      ],
      "text/plain": [
       "<IPython.core.display.Javascript object>"
      ]
     },
     "metadata": {},
     "output_type": "display_data"
    },
    {
     "data": {
      "text/html": [
       "<div>\n",
       "<style scoped>\n",
       "    .dataframe tbody tr th:only-of-type {\n",
       "        vertical-align: middle;\n",
       "    }\n",
       "\n",
       "    .dataframe tbody tr th {\n",
       "        vertical-align: top;\n",
       "    }\n",
       "\n",
       "    .dataframe thead th {\n",
       "        text-align: right;\n",
       "    }\n",
       "</style>\n",
       "<table border=\"1\" class=\"dataframe\">\n",
       "  <thead>\n",
       "    <tr style=\"text-align: right;\">\n",
       "      <th></th>\n",
       "      <th>Team1</th>\n",
       "      <th>Team2</th>\n",
       "      <th>Winner</th>\n",
       "      <th>Margin</th>\n",
       "      <th>Ground</th>\n",
       "      <th>Date</th>\n",
       "      <th>Link</th>\n",
       "    </tr>\n",
       "  </thead>\n",
       "  <tbody>\n",
       "    <tr>\n",
       "      <th>0</th>\n",
       "      <td>West Indies</td>\n",
       "      <td>England</td>\n",
       "      <td>West Indies</td>\n",
       "      <td>9 wickets</td>\n",
       "      <td>Bridgetown</td>\n",
       "      <td>Jan 22, 2022</td>\n",
       "      <td>https://stats.espncricinfo.com/ci/engine/match...</td>\n",
       "    </tr>\n",
       "    <tr>\n",
       "      <th>1</th>\n",
       "      <td>West Indies</td>\n",
       "      <td>England</td>\n",
       "      <td>England</td>\n",
       "      <td>1 run</td>\n",
       "      <td>Bridgetown</td>\n",
       "      <td>Jan 23, 2022</td>\n",
       "      <td>https://stats.espncricinfo.com/ci/engine/match...</td>\n",
       "    </tr>\n",
       "    <tr>\n",
       "      <th>2</th>\n",
       "      <td>West Indies</td>\n",
       "      <td>England</td>\n",
       "      <td>West Indies</td>\n",
       "      <td>20 runs</td>\n",
       "      <td>Bridgetown</td>\n",
       "      <td>Jan 26, 2022</td>\n",
       "      <td>https://stats.espncricinfo.com/ci/engine/match...</td>\n",
       "    </tr>\n",
       "    <tr>\n",
       "      <th>3</th>\n",
       "      <td>West Indies</td>\n",
       "      <td>England</td>\n",
       "      <td>England</td>\n",
       "      <td>34 runs</td>\n",
       "      <td>Bridgetown</td>\n",
       "      <td>Jan 29, 2022</td>\n",
       "      <td>https://stats.espncricinfo.com/ci/engine/match...</td>\n",
       "    </tr>\n",
       "    <tr>\n",
       "      <th>4</th>\n",
       "      <td>West Indies</td>\n",
       "      <td>England</td>\n",
       "      <td>West Indies</td>\n",
       "      <td>17 runs</td>\n",
       "      <td>Bridgetown</td>\n",
       "      <td>Jan 30, 2022</td>\n",
       "      <td>https://stats.espncricinfo.com/ci/engine/match...</td>\n",
       "    </tr>\n",
       "  </tbody>\n",
       "</table>\n",
       "</div>"
      ],
      "text/plain": [
       "         Team1    Team2       Winner     Margin      Ground          Date  \\\n",
       "0  West Indies  England  West Indies  9 wickets  Bridgetown  Jan 22, 2022   \n",
       "1  West Indies  England      England      1 run  Bridgetown  Jan 23, 2022   \n",
       "2  West Indies  England  West Indies    20 runs  Bridgetown  Jan 26, 2022   \n",
       "3  West Indies  England      England    34 runs  Bridgetown  Jan 29, 2022   \n",
       "4  West Indies  England  West Indies    17 runs  Bridgetown  Jan 30, 2022   \n",
       "\n",
       "                                                Link  \n",
       "0  https://stats.espncricinfo.com/ci/engine/match...  \n",
       "1  https://stats.espncricinfo.com/ci/engine/match...  \n",
       "2  https://stats.espncricinfo.com/ci/engine/match...  \n",
       "3  https://stats.espncricinfo.com/ci/engine/match...  \n",
       "4  https://stats.espncricinfo.com/ci/engine/match...  "
      ]
     },
     "execution_count": 4,
     "metadata": {},
     "output_type": "execute_result"
    }
   ],
   "source": [
    "data = pd.read_csv(\"Matchesinfo.csv\")\n",
    "data.head()"
   ]
  },
  {
   "cell_type": "markdown",
   "id": "2bb66cdb",
   "metadata": {},
   "source": [
    "## Removing the data for matches with no results"
   ]
  },
  {
   "cell_type": "code",
   "execution_count": 5,
   "id": "f34e12f0",
   "metadata": {},
   "outputs": [
    {
     "data": {
      "text/plain": [
       "27"
      ]
     },
     "execution_count": 5,
     "metadata": {},
     "output_type": "execute_result"
    }
   ],
   "source": [
    "lst = data[data.Winner=='no result'].index\n",
    "len(lst)"
   ]
  },
  {
   "cell_type": "code",
   "execution_count": 64,
   "id": "6662bffc",
   "metadata": {},
   "outputs": [
    {
     "data": {
      "text/plain": [
       "(927, 7)"
      ]
     },
     "execution_count": 64,
     "metadata": {},
     "output_type": "execute_result"
    }
   ],
   "source": [
    "df = data[data.Winner!='no result']\n",
    "df.shape"
   ]
  },
  {
   "cell_type": "markdown",
   "id": "6af7368d",
   "metadata": {},
   "source": [
    "## Program for getting all the Batting and Bowling data of each match using the link in the Match Info Data"
   ]
  },
  {
   "cell_type": "code",
   "execution_count": 170,
   "id": "6dc4e042",
   "metadata": {},
   "outputs": [
    {
     "name": "stdout",
     "output_type": "stream",
     "text": [
      "Team1 batting data done (850)\n",
      "Team2 batting data done (850)\n",
      "Team1 bowling data done (850)\n",
      "Team2 bowling data done (850)\n",
      "Team1 batting data done (851)\n",
      "Team2 batting data done (851)\n",
      "Team1 bowling data done (851)\n",
      "Team2 bowling data done (851)\n",
      "Team1 batting data done (852)\n",
      "Team2 batting data done (852)\n",
      "Team1 bowling data done (852)\n",
      "Team2 bowling data done (852)\n",
      "Team1 batting data done (853)\n",
      "Team2 batting data done (853)\n",
      "Team1 bowling data done (853)\n",
      "Team2 bowling data done (853)\n",
      "Team1 batting data done (854)\n",
      "Team2 batting data done (854)\n",
      "Team1 bowling data done (854)\n",
      "Team2 bowling data done (854)\n",
      "Team1 batting data done (855)\n",
      "Team2 batting data done (855)\n",
      "Team1 bowling data done (855)\n",
      "Team2 bowling data done (855)\n",
      "Team1 batting data done (856)\n",
      "Team2 batting data done (856)\n",
      "Team1 bowling data done (856)\n",
      "Team2 bowling data done (856)\n",
      "Team1 batting data done (857)\n",
      "Team2 batting data done (857)\n",
      "Team1 bowling data done (857)\n",
      "Team2 bowling data done (857)\n",
      "Team1 batting data done (858)\n",
      "Team2 batting data done (858)\n",
      "Team1 bowling data done (858)\n",
      "Team2 bowling data done (858)\n",
      "Team1 batting data done (859)\n",
      "Team2 batting data done (859)\n",
      "Team1 bowling data done (859)\n",
      "Team2 bowling data done (859)\n",
      "Team1 batting data done (860)\n",
      "Team2 batting data done (860)\n",
      "Team1 bowling data done (860)\n",
      "Team2 bowling data done (860)\n",
      "Team1 batting data done (861)\n",
      "Team2 batting data done (861)\n",
      "Team1 bowling data done (861)\n",
      "Team2 bowling data done (861)\n",
      "Team1 batting data done (862)\n",
      "Team2 batting data done (862)\n",
      "Team1 bowling data done (862)\n",
      "Team2 bowling data done (862)\n",
      "Team1 batting data done (863)\n",
      "Team2 batting data done (863)\n",
      "Team1 bowling data done (863)\n",
      "Team2 bowling data done (863)\n",
      "Team1 batting data done (864)\n",
      "Team2 batting data done (864)\n",
      "Team1 bowling data done (864)\n",
      "Team2 bowling data done (864)\n",
      "Team1 batting data done (865)\n",
      "Team2 batting data done (865)\n",
      "Team1 bowling data done (865)\n",
      "Team2 bowling data done (865)\n",
      "Team1 batting data done (866)\n",
      "Team2 batting data done (866)\n",
      "Team1 bowling data done (866)\n",
      "Team2 bowling data done (866)\n",
      "Team1 batting data done (867)\n",
      "Team2 batting data done (867)\n",
      "Team1 bowling data done (867)\n",
      "Team2 bowling data done (867)\n",
      "Team1 batting data done (868)\n",
      "Team2 batting data done (868)\n",
      "Team1 bowling data done (868)\n",
      "Team2 bowling data done (868)\n",
      "Team1 batting data done (869)\n",
      "Team2 batting data done (869)\n",
      "Team1 bowling data done (869)\n",
      "Team2 bowling data done (869)\n",
      "Team1 batting data done (870)\n",
      "Team2 batting data done (870)\n",
      "Team1 bowling data done (870)\n",
      "Team2 bowling data done (870)\n",
      "Team1 batting data done (871)\n",
      "Team2 batting data done (871)\n",
      "Team1 bowling data done (871)\n",
      "Team2 bowling data done (871)\n",
      "Team1 batting data done (872)\n",
      "Team2 batting data done (872)\n",
      "Team1 bowling data done (872)\n",
      "Team2 bowling data done (872)\n",
      "Team1 batting data done (873)\n",
      "Team2 batting data done (873)\n",
      "Team1 bowling data done (873)\n",
      "Team2 bowling data done (873)\n",
      "Team1 batting data done (874)\n",
      "Team2 batting data done (874)\n",
      "Team1 bowling data done (874)\n",
      "Team2 bowling data done (874)\n",
      "Team1 batting data done (875)\n",
      "Team2 batting data done (875)\n",
      "Team1 bowling data done (875)\n",
      "Team2 bowling data done (875)\n",
      "Team1 batting data done (876)\n",
      "Team2 batting data done (876)\n",
      "Team1 bowling data done (876)\n",
      "Team2 bowling data done (876)\n",
      "Team1 batting data done (877)\n",
      "Team2 batting data done (877)\n",
      "Team1 bowling data done (877)\n",
      "Team2 bowling data done (877)\n",
      "Team1 batting data done (878)\n",
      "Team2 batting data done (878)\n",
      "Team1 bowling data done (878)\n",
      "Team2 bowling data done (878)\n",
      "Team1 batting data done (879)\n",
      "Team2 batting data done (879)\n",
      "Team1 bowling data done (879)\n",
      "Team2 bowling data done (879)\n",
      "Team1 batting data done (880)\n",
      "Team2 batting data done (880)\n",
      "Team1 bowling data done (880)\n",
      "Team2 bowling data done (880)\n",
      "Team1 batting data done (881)\n",
      "Team2 batting data done (881)\n",
      "Team1 bowling data done (881)\n",
      "Team2 bowling data done (881)\n",
      "Team1 batting data done (882)\n",
      "Team2 batting data done (882)\n",
      "Team1 bowling data done (882)\n",
      "Team2 bowling data done (882)\n",
      "Team1 batting data done (883)\n",
      "Team2 batting data done (883)\n",
      "Team1 bowling data done (883)\n",
      "Team2 bowling data done (883)\n",
      "Team1 batting data done (884)\n",
      "Team2 batting data done (884)\n",
      "Team1 bowling data done (884)\n",
      "Team2 bowling data done (884)\n",
      "Team1 batting data done (885)\n",
      "Team2 batting data done (885)\n",
      "Team1 bowling data done (885)\n",
      "Team2 bowling data done (885)\n",
      "Team1 batting data done (886)\n",
      "Team2 batting data done (886)\n",
      "Team1 bowling data done (886)\n",
      "Team2 bowling data done (886)\n",
      "Team1 batting data done (887)\n",
      "Team2 batting data done (887)\n",
      "Team1 bowling data done (887)\n",
      "Team2 bowling data done (887)\n",
      "Team1 batting data done (888)\n",
      "Team2 batting data done (888)\n",
      "Team1 bowling data done (888)\n",
      "Team2 bowling data done (888)\n",
      "Team1 batting data done (889)\n",
      "Team2 batting data done (889)\n",
      "Team1 bowling data done (889)\n",
      "Team2 bowling data done (889)\n",
      "Team1 batting data done (890)\n",
      "Team2 batting data done (890)\n",
      "Team1 bowling data done (890)\n",
      "Team2 bowling data done (890)\n",
      "Team1 batting data done (891)\n",
      "Team2 batting data done (891)\n",
      "Team1 bowling data done (891)\n",
      "Team2 bowling data done (891)\n",
      "Team1 batting data done (892)\n",
      "Team2 batting data done (892)\n",
      "Team1 bowling data done (892)\n",
      "Team2 bowling data done (892)\n",
      "Team1 batting data done (893)\n",
      "Team2 batting data done (893)\n",
      "Team1 bowling data done (893)\n",
      "Team2 bowling data done (893)\n",
      "Team1 batting data done (894)\n",
      "Team2 batting data done (894)\n",
      "Team1 bowling data done (894)\n",
      "Team2 bowling data done (894)\n",
      "Team1 batting data done (895)\n",
      "Team2 batting data done (895)\n",
      "Team1 bowling data done (895)\n",
      "Team2 bowling data done (895)\n",
      "Team1 batting data done (896)\n",
      "Team2 batting data done (896)\n",
      "Team1 bowling data done (896)\n",
      "Team2 bowling data done (896)\n",
      "Team1 batting data done (897)\n",
      "Team2 batting data done (897)\n",
      "Team1 bowling data done (897)\n",
      "Team2 bowling data done (897)\n",
      "Team1 batting data done (898)\n",
      "Team2 batting data done (898)\n",
      "Team1 bowling data done (898)\n",
      "Team2 bowling data done (898)\n",
      "Team1 batting data done (899)\n",
      "Team2 batting data done (899)\n",
      "Team1 bowling data done (899)\n",
      "Team2 bowling data done (899)\n",
      "Team1 batting data done (900)\n",
      "Team2 batting data done (900)\n",
      "Team1 bowling data done (900)\n",
      "Team2 bowling data done (900)\n",
      "Team1 batting data done (901)\n",
      "Team2 batting data done (901)\n",
      "Team1 bowling data done (901)\n",
      "Team2 bowling data done (901)\n",
      "Team1 batting data done (902)\n",
      "Team2 batting data done (902)\n",
      "Team1 bowling data done (902)\n",
      "Team2 bowling data done (902)\n",
      "Team1 batting data done (903)\n",
      "Team2 batting data done (903)\n",
      "Team1 bowling data done (903)\n",
      "Team2 bowling data done (903)\n",
      "Team1 batting data done (904)\n",
      "Team2 batting data done (904)\n",
      "Team1 bowling data done (904)\n",
      "Team2 bowling data done (904)\n",
      "Team1 batting data done (905)\n",
      "Team2 batting data done (905)\n",
      "Team1 bowling data done (905)\n",
      "Team2 bowling data done (905)\n",
      "Team1 batting data done (906)\n",
      "Team2 batting data done (906)\n",
      "Team1 bowling data done (906)\n",
      "Team2 bowling data done (906)\n",
      "Team1 batting data done (907)\n",
      "Team2 batting data done (907)\n",
      "Team1 bowling data done (907)\n",
      "Team2 bowling data done (907)\n",
      "Team1 batting data done (908)\n",
      "Team2 batting data done (908)\n",
      "Team1 bowling data done (908)\n",
      "Team2 bowling data done (908)\n",
      "Team1 batting data done (909)\n",
      "Team2 batting data done (909)\n",
      "Team1 bowling data done (909)\n",
      "Team2 bowling data done (909)\n",
      "Team1 batting data done (910)\n",
      "Team2 batting data done (910)\n",
      "Team1 bowling data done (910)\n",
      "Team2 bowling data done (910)\n",
      "Team1 batting data done (911)\n",
      "Team2 batting data done (911)\n",
      "Team1 bowling data done (911)\n",
      "Team2 bowling data done (911)\n",
      "Team1 batting data done (912)\n",
      "Team2 batting data done (912)\n",
      "Team1 bowling data done (912)\n",
      "Team2 bowling data done (912)\n",
      "Team1 batting data done (913)\n",
      "Team2 batting data done (913)\n",
      "Team1 bowling data done (913)\n",
      "Team2 bowling data done (913)\n",
      "Team1 batting data done (914)\n",
      "Team2 batting data done (914)\n",
      "Team1 bowling data done (914)\n",
      "Team2 bowling data done (914)\n",
      "Team1 batting data done (915)\n",
      "Team2 batting data done (915)\n",
      "Team1 bowling data done (915)\n",
      "Team2 bowling data done (915)\n",
      "Team1 batting data done (916)\n",
      "Team2 batting data done (916)\n",
      "Team1 bowling data done (916)\n",
      "Team2 bowling data done (916)\n",
      "Team1 batting data done (917)\n",
      "Team2 batting data done (917)\n",
      "Team1 bowling data done (917)\n",
      "Team2 bowling data done (917)\n",
      "Team1 batting data done (918)\n",
      "Team2 batting data done (918)\n",
      "Team1 bowling data done (918)\n",
      "Team2 bowling data done (918)\n"
     ]
    },
    {
     "name": "stdout",
     "output_type": "stream",
     "text": [
      "Team1 batting data done (919)\n",
      "Team2 batting data done (919)\n",
      "Team1 bowling data done (919)\n",
      "Team2 bowling data done (919)\n",
      "Team1 batting data done (920)\n",
      "Team2 batting data done (920)\n",
      "Team1 bowling data done (920)\n",
      "Team2 bowling data done (920)\n",
      "Team1 batting data done (921)\n",
      "Team2 batting data done (921)\n",
      "Team1 bowling data done (921)\n",
      "Team2 bowling data done (921)\n",
      "Team1 batting data done (922)\n",
      "Team2 batting data done (922)\n",
      "Team1 bowling data done (922)\n",
      "Team2 bowling data done (922)\n",
      "Team1 batting data done (923)\n",
      "Team2 batting data done (923)\n",
      "Team1 bowling data done (923)\n",
      "Team2 bowling data done (923)\n",
      "Team1 batting data done (924)\n",
      "Team2 batting data done (924)\n",
      "Team1 bowling data done (924)\n",
      "Team2 bowling data done (924)\n",
      "Team1 batting data done (925)\n",
      "Team2 batting data done (925)\n",
      "Team1 bowling data done (925)\n",
      "Team2 bowling data done (925)\n"
     ]
    },
    {
     "data": {
      "application/javascript": [
       "\n",
       "        if (window._pyforest_update_imports_cell) { window._pyforest_update_imports_cell('import pandas as pd'); }\n",
       "    "
      ],
      "text/plain": [
       "<IPython.core.display.Javascript object>"
      ]
     },
     "metadata": {},
     "output_type": "display_data"
    },
    {
     "data": {
      "application/javascript": [
       "\n",
       "        if (window._pyforest_update_imports_cell) { window._pyforest_update_imports_cell('import pandas as pd'); }\n",
       "    "
      ],
      "text/plain": [
       "<IPython.core.display.Javascript object>"
      ]
     },
     "metadata": {},
     "output_type": "display_data"
    },
    {
     "name": "stdout",
     "output_type": "stream",
     "text": [
      "(1204, 11) (886, 9)\n"
     ]
    }
   ],
   "source": [
    "match = []\n",
    "team = []\n",
    "pos = []\n",
    "batsmen = []\n",
    "bat_link = [] \n",
    "dismissal = []\n",
    "runs = []\n",
    "balls = []\n",
    "fours = []\n",
    "sixes = []\n",
    "rate = []\n",
    "bmatch = []\n",
    "bteam = []\n",
    "bowler = []\n",
    "bol_link = []\n",
    "overs = []\n",
    "maiden = []\n",
    "conceded = []\n",
    "wickets = []\n",
    "economy = []\n",
    "r = 0\n",
    "for i in df['Link']:\n",
    "    driver.get(i)\n",
    "    page = BeautifulSoup(driver.page_source, 'html.parser')\n",
    "    # Tables\n",
    "    tmlst = page.find_all('span','ds-text-title-xs')\n",
    "    if len(tmlst)>4:\n",
    "        # Team Batting First\n",
    "        mat1 = page.find_all('span','ds-text-title-xs')[1].find_all('span')[0].text\n",
    "        # Team Batting Second\n",
    "        mat2 = page.find_all('span','ds-text-title-xs')[3].find_all('span')[0].text\n",
    "    else:\n",
    "        # Team Batting First\n",
    "        mat1 = page.find_all('span','ds-text-title-xs')[1].text\n",
    "    # Team Batting Second\n",
    "        mat2 = page.find_all('span','ds-text-title-xs')[3].text\n",
    "    # Number of tables on the page\n",
    "    table = page.find_all('table')\n",
    "    if len(table)<4:\n",
    "        print('The match was abandoned')\n",
    "    else:\n",
    "        # Table for Team 1 Batting \n",
    "        tbody = table[0].find_all('tbody')[0] \n",
    "        # If table row is greater than 22 hence table row is -2\n",
    "        if len(tbody.find_all('tr'))>=25:\n",
    "            bat_no = 11\n",
    "        elif len(tbody.find_all('tr'))==7:\n",
    "            bat_no = int((len(tbody2.find_all('tr'))-3)/2)\n",
    "        else:\n",
    "            bat_no = int((len(tbody.find_all('tr'))-4)/2)\n",
    "    c=1\n",
    "    # Team batting first\n",
    "    for j in range(int(bat_no*2)):\n",
    "        if j%2==0:\n",
    "            mat = mat1+' vs '+mat2\n",
    "            match.append(mat)\n",
    "            team.append(mat1)\n",
    "            pos.append(c)\n",
    "            batsmen.append(tbody.find_all('tr')[j].find_all('td')[0].a['title'])\n",
    "            link = 'https://www.espncricinfo.com/'+tbody.find_all('tr')[j].find_all('td')[0].a['href']\n",
    "            bat_link.append(link)\n",
    "            dismissal.append(tbody.find_all('tr')[j].find_all('td')[1].text)\n",
    "            runs.append(tbody.find_all('tr')[j].find_all('td')[2].text)\n",
    "            balls.append(tbody.find_all('tr')[j].find_all('td')[3].text)\n",
    "            fours.append(tbody.find_all('tr')[j].find_all('td')[5].text)\n",
    "            sixes.append(tbody.find_all('tr')[j].find_all('td')[6].text)\n",
    "            rate.append(tbody.find_all('tr')[j].find_all('td')[7].text)\n",
    "            c+=1\n",
    "    print(f'Team1 batting data done ({r})')\n",
    "    # Team batting second\n",
    "    tbody2 = table[2].find_all('tbody')[0]\n",
    "    # Since the table row is less than 25 hence the score will be in table row -3\n",
    "    if len(tbody2.find_all('tr'))>=25:\n",
    "        bat_no = 11\n",
    "    elif len(tbody2.find_all('tr'))==7:\n",
    "        bat_no = int((len(tbody2.find_all('tr'))-3)/2)\n",
    "    else:\n",
    "        bat_no = int((len(tbody2.find_all('tr'))-4)/2)\n",
    "    c = 1\n",
    "    for j in range(int(bat_no*2)):\n",
    "        if j%2==0:\n",
    "            mat = mat1+' vs '+mat2\n",
    "            match.append(mat)\n",
    "            team.append(mat2)\n",
    "            pos.append(c)\n",
    "            batsmen.append(tbody2.find_all('tr')[j].find_all('td')[0].a['title'])\n",
    "            link = 'https://www.espncricinfo.com/'+tbody2.find_all('tr')[j].find_all('td')[0].a['href']\n",
    "            bat_link.append(link)\n",
    "            dismissal.append(tbody2.find_all('tr')[j].find_all('td')[1].text)\n",
    "            runs.append(tbody2.find_all('tr')[j].find_all('td')[2].text)\n",
    "            balls.append(tbody2.find_all('tr')[j].find_all('td')[3].text)\n",
    "            fours.append(tbody2.find_all('tr')[j].find_all('td')[5].text)\n",
    "            sixes.append(tbody2.find_all('tr')[j].find_all('td')[6].text)\n",
    "            rate.append(tbody2.find_all('tr')[j].find_all('td')[7].text)\n",
    "            c+=1\n",
    "    print(f'Team2 batting data done ({r})')\n",
    "    # Bowler Team 1\n",
    "    tbody1 = table[1].find_all('tbody')[0]\n",
    "    y = tbody1.find_all('tr', 'ds-hidden')\n",
    "    tr = [z for z in tbody1.find_all('tr') if z not in y]\n",
    "    # No of bowlers used\n",
    "    no = len(tr) \n",
    "    for j in range(no):\n",
    "        mat = mat1+' vs '+mat2\n",
    "        bmatch.append(mat)\n",
    "        bteam.append(mat2)\n",
    "        bowler.append(tr[j].find_all('td')[0].text)\n",
    "        link = 'https://www.espncricinfo.com/'+tr[j].find_all('td')[0].a['href']\n",
    "        bol_link.append(link)\n",
    "        overs.append(tr[j].find_all('td')[1].text)\n",
    "        maiden.append(tr[j].find_all('td')[2].text)\n",
    "        conceded.append(tr[j].find_all('td')[3].text)\n",
    "        wickets.append(tr[j].find_all('td')[4].text)\n",
    "        economy.append(tr[j].find_all('td')[5].text)\n",
    "    print(f'Team1 bowling data done ({r})')\n",
    "    # Bowler Team 2 \n",
    "    tbody3 = table[3].find_all('tbody')[0]\n",
    "    y = tbody3.find_all('tr', 'ds-hidden')\n",
    "    tr = [z for z in tbody3.find_all('tr') if z not in y]\n",
    "    # No of bowlers used\n",
    "    no = len(tr)  \n",
    "    for j in range(no):\n",
    "        mat = mat1+' vs '+mat2\n",
    "        bmatch.append(mat)\n",
    "        bteam.append(mat1)\n",
    "        bowler.append(tr[j].find_all('td')[0].text)\n",
    "        link = 'https://www.espncricinfo.com/'+tr[j].find_all('td')[0].a['href']\n",
    "        bol_link.append(link)\n",
    "        overs.append(tr[j].find_all('td')[1].text)\n",
    "        maiden.append(tr[j].find_all('td')[2].text)\n",
    "        conceded.append(tr[j].find_all('td')[3].text)\n",
    "        wickets.append(tr[j].find_all('td')[4].text)\n",
    "        economy.append(tr[j].find_all('td')[5].text)\n",
    "    print(f'Team2 bowling data done ({r})')\n",
    "    r+=1\n",
    "        \n",
    "        \n",
    "batsmen_data = pd.DataFrame({'Match':match, 'Team':team, 'Position':pos, 'Batsmen':batsmen, 'Link':bat_link, \n",
    "                             'Dismissal':dismissal, 'Runs':runs, 'Balls':balls, 'Fours':fours, 'Sixes':sixes, \n",
    "                             'Strike Rate':rate})\n",
    "bowler_data = pd.DataFrame({'Match': bmatch, 'Team': bteam, 'Bowler':bowler, 'Link': bol_link, 'Overs':overs, \n",
    "                            'Maiden':maiden, 'Runs':conceded, 'Wickets':wickets, 'Economy':economy})\n",
    "print(batsmen_data.shape, bowler_data.shape)"
   ]
  },
  {
   "cell_type": "markdown",
   "id": "22f17ff3",
   "metadata": {},
   "source": [
    "## Concatinating all the Data into single DataFrame"
   ]
  },
  {
   "cell_type": "code",
   "execution_count": 171,
   "id": "8a6534ac",
   "metadata": {},
   "outputs": [
    {
     "data": {
      "application/javascript": [
       "\n",
       "        if (window._pyforest_update_imports_cell) { window._pyforest_update_imports_cell('import pandas as pd'); }\n",
       "    "
      ],
      "text/plain": [
       "<IPython.core.display.Javascript object>"
      ]
     },
     "metadata": {},
     "output_type": "display_data"
    },
    {
     "data": {
      "application/javascript": [
       "\n",
       "        if (window._pyforest_update_imports_cell) { window._pyforest_update_imports_cell('import pandas as pd'); }\n",
       "    "
      ],
      "text/plain": [
       "<IPython.core.display.Javascript object>"
      ]
     },
     "metadata": {},
     "output_type": "display_data"
    },
    {
     "name": "stdout",
     "output_type": "stream",
     "text": [
      "(15112, 11) (11111, 9)\n"
     ]
    }
   ],
   "source": [
    "batting_info = pd.concat([batting_info, batsmen_data], axis=0, ignore_index=True)\n",
    "bowling_info = pd.concat([bowling_info, bowler_data], axis=0, ignore_index = True)\n",
    "print(batting_info.shape, bowling_info.shape)"
   ]
  },
  {
   "cell_type": "markdown",
   "id": "137cb349",
   "metadata": {},
   "source": [
    "## Saving the Data into csv"
   ]
  },
  {
   "cell_type": "code",
   "execution_count": 173,
   "id": "2891aa9e",
   "metadata": {},
   "outputs": [],
   "source": [
    "batting_info.to_csv('Battinginfo.csv', index= False, index_label=False)\n",
    "bowling_info.to_csv('Bowlinginfo.csv', index= False, index_label=False)"
   ]
  },
  {
   "cell_type": "markdown",
   "id": "94ca7758",
   "metadata": {},
   "source": [
    "# Collecting the player Data "
   ]
  },
  {
   "cell_type": "markdown",
   "id": "690a11ec",
   "metadata": {},
   "source": [
    "## Loading the Batting Data and Bowling Data"
   ]
  },
  {
   "cell_type": "code",
   "execution_count": 27,
   "id": "46f0f637",
   "metadata": {},
   "outputs": [
    {
     "data": {
      "application/javascript": [
       "\n",
       "        if (window._pyforest_update_imports_cell) { window._pyforest_update_imports_cell('import pandas as pd'); }\n",
       "    "
      ],
      "text/plain": [
       "<IPython.core.display.Javascript object>"
      ]
     },
     "metadata": {},
     "output_type": "display_data"
    },
    {
     "data": {
      "application/javascript": [
       "\n",
       "        if (window._pyforest_update_imports_cell) { window._pyforest_update_imports_cell('import pandas as pd'); }\n",
       "    "
      ],
      "text/plain": [
       "<IPython.core.display.Javascript object>"
      ]
     },
     "metadata": {},
     "output_type": "display_data"
    },
    {
     "name": "stdout",
     "output_type": "stream",
     "text": [
      "(15112, 11) (11111, 9)\n"
     ]
    }
   ],
   "source": [
    "bat = pd.read_csv('Battinginfo.csv')\n",
    "ball = pd.read_csv('Bowlinginfo.csv')\n",
    "print(bat.shape, ball.shape)"
   ]
  },
  {
   "cell_type": "markdown",
   "id": "bc0fc947",
   "metadata": {},
   "source": [
    "## Filtering Unique Players from both the Dataset"
   ]
  },
  {
   "cell_type": "code",
   "execution_count": 28,
   "id": "07479bb9",
   "metadata": {},
   "outputs": [
    {
     "name": "stdout",
     "output_type": "stream",
     "text": [
      "1939 1411\n"
     ]
    }
   ],
   "source": [
    "unq1 = bat['Batsmen'].unique()\n",
    "unq2 = ball['Bowler'].unique()\n",
    "print(len(unq1), len(unq2))"
   ]
  },
  {
   "cell_type": "markdown",
   "id": "dd3064eb",
   "metadata": {},
   "source": [
    "## Getting all unique players link from both the dataset and combining it"
   ]
  },
  {
   "cell_type": "code",
   "execution_count": 30,
   "id": "1c96fc8c",
   "metadata": {},
   "outputs": [
    {
     "name": "stdout",
     "output_type": "stream",
     "text": [
      "118\n",
      "2057\n"
     ]
    }
   ],
   "source": [
    "# Unique players from Batting Info\n",
    "x = [bat.iloc[bat[bat['Batsmen']==i].index[0]]['Link'] for i in unq1]\n",
    "# Unique values from bowling Info\n",
    "y = [ball.iloc[ball[ball['Bowler']==i].index[0]]['Link']  for i in unq2]\n",
    "# Removing the unique player from bowling data unique list which are in batting data unique as well to avoid duplicates\n",
    "z = [i for i in y if i not in x]\n",
    "print(len(z))\n",
    "# Adding the z list of players into batting data\n",
    "x.extend(z)\n",
    "print(len(x))"
   ]
  },
  {
   "cell_type": "markdown",
   "id": "f2e8190c",
   "metadata": {},
   "source": [
    "## Program for getting the player data"
   ]
  },
  {
   "cell_type": "code",
   "execution_count": 18,
   "id": "4ae44239",
   "metadata": {},
   "outputs": [
    {
     "name": "stdout",
     "output_type": "stream",
     "text": [
      "Data Loaded (1)\n",
      "Data Loaded (2)\n",
      "Data Loaded (3)\n",
      "Data Loaded (4)\n",
      "Data Loaded (5)\n",
      "Data Loaded (6)\n",
      "Data Loaded (7)\n",
      "Data Loaded (8)\n",
      "Data Loaded (9)\n",
      "Data Loaded (10)\n",
      "Data Loaded (11)\n",
      "Data Loaded (12)\n",
      "Data Loaded (13)\n",
      "Data Loaded (14)\n",
      "Data Loaded (15)\n",
      "Data Loaded (16)\n",
      "Data Loaded (17)\n",
      "Data Loaded (18)\n",
      "Data Loaded (19)\n",
      "Data Loaded (20)\n",
      "Data Loaded (21)\n",
      "Data Loaded (22)\n",
      "Data Loaded (23)\n",
      "Data Loaded (24)\n",
      "Data Loaded (25)\n",
      "Data Loaded (26)\n",
      "Data Loaded (27)\n",
      "Data Loaded (28)\n",
      "Data Loaded (29)\n",
      "Data Loaded (30)\n",
      "Data Loaded (31)\n",
      "Data Loaded (32)\n",
      "Data Loaded (33)\n",
      "Data Loaded (34)\n",
      "Data Loaded (35)\n",
      "Data Loaded (36)\n",
      "Data Loaded (37)\n",
      "Data Loaded (38)\n",
      "Data Loaded (39)\n",
      "Data Loaded (40)\n",
      "Data Loaded (41)\n",
      "Data Loaded (42)\n",
      "Data Loaded (43)\n",
      "Data Loaded (44)\n",
      "Data Loaded (45)\n",
      "Data Loaded (46)\n",
      "Data Loaded (47)\n",
      "Data Loaded (48)\n",
      "Data Loaded (49)\n",
      "Data Loaded (50)\n",
      "Data Loaded (51)\n",
      "Data Loaded (52)\n",
      "Data Loaded (53)\n",
      "Data Loaded (54)\n",
      "Data Loaded (55)\n",
      "Data Loaded (56)\n",
      "Data Loaded (57)\n",
      "Data Loaded (58)\n",
      "Data Loaded (59)\n",
      "Data Loaded (60)\n",
      "Data Loaded (61)\n",
      "Data Loaded (62)\n",
      "Data Loaded (63)\n",
      "Data Loaded (64)\n",
      "Data Loaded (65)\n",
      "Data Loaded (66)\n",
      "Data Loaded (67)\n",
      "Data Loaded (68)\n",
      "Data Loaded (69)\n",
      "Data Loaded (70)\n",
      "Data Loaded (71)\n",
      "Data Loaded (72)\n",
      "Data Loaded (73)\n",
      "Data Loaded (74)\n",
      "Data Loaded (75)\n",
      "Data Loaded (76)\n",
      "Data Loaded (77)\n",
      "Data Loaded (78)\n",
      "Data Loaded (79)\n",
      "Data Loaded (80)\n",
      "Data Loaded (81)\n",
      "Data Loaded (82)\n",
      "Data Loaded (83)\n",
      "Data Loaded (84)\n",
      "Data Loaded (85)\n",
      "Data Loaded (86)\n",
      "Data Loaded (87)\n",
      "Data Loaded (88)\n",
      "Data Loaded (89)\n",
      "Data Loaded (90)\n",
      "Data Loaded (91)\n",
      "Data Loaded (92)\n",
      "Data Loaded (93)\n",
      "Data Loaded (94)\n",
      "Data Loaded (95)\n",
      "Data Loaded (96)\n",
      "Data Loaded (97)\n",
      "Data Loaded (98)\n",
      "Data Loaded (99)\n",
      "Data Loaded (100)\n",
      "Data Loaded (101)\n",
      "Data Loaded (102)\n",
      "Data Loaded (103)\n",
      "Data Loaded (104)\n",
      "Data Loaded (105)\n",
      "Data Loaded (106)\n",
      "Data Loaded (107)\n",
      "Data Loaded (108)\n",
      "Data Loaded (109)\n",
      "Data Loaded (110)\n",
      "Data Loaded (111)\n",
      "Data Loaded (112)\n",
      "Data Loaded (113)\n",
      "Data Loaded (114)\n",
      "Data Loaded (115)\n",
      "Data Loaded (116)\n",
      "Data Loaded (117)\n",
      "Data Loaded (118)\n"
     ]
    },
    {
     "data": {
      "application/javascript": [
       "\n",
       "        if (window._pyforest_update_imports_cell) { window._pyforest_update_imports_cell('import pandas as pd'); }\n",
       "    "
      ],
      "text/plain": [
       "<IPython.core.display.Javascript object>"
      ]
     },
     "metadata": {},
     "output_type": "display_data"
    },
    {
     "name": "stdout",
     "output_type": "stream",
     "text": [
      "(118, 7)\n"
     ]
    }
   ],
   "source": [
    "name = []\n",
    "team = []\n",
    "bat_style = []\n",
    "bol_style = []\n",
    "role = []\n",
    "des = []\n",
    "image = []\n",
    "c = 1\n",
    "for i in x:\n",
    "    driver.get(i)\n",
    "    page = BeautifulSoup(driver.page_source, 'html.parser')\n",
    "    name.append(page.find_all('div','ds-p-4')[0].find_all('span')[0].text)\n",
    "    team.append(ball.iloc[ball[ball['Link']==i].index[0]]['Team'])\n",
    "    try:\n",
    "        bat_style.append(page.find_all('div','ds-p-4')[0].find_all('span')[3].text)\n",
    "    except Exception as e:\n",
    "        bat_style.append(None)\n",
    "    try:\n",
    "        bol_style.append(page.find_all('div','ds-p-4')[0].find_all('span')[4].text)\n",
    "    except Exception as e:\n",
    "        bol_style.append(None)\n",
    "    try:\n",
    "        role.append(page.find_all('div','ds-p-4')[0].find_all('span')[5].text)\n",
    "    except Exception as e:\n",
    "        role.append(None)\n",
    "    try:\n",
    "        des.append(page.find_all('div','ds-p-4')[0].find_all('div', 'ci-player-bio-content')[0].find_all('p')[0].text)\n",
    "    except Exception as e:\n",
    "        des.append(None)\n",
    "    try:\n",
    "        image.append(page.find_all('div','ds-w-40')[0].find_all('img')[0]['src'])\n",
    "    except Exception as e:\n",
    "        image.append(None)\n",
    "    print(f'Data Loaded ({c})')\n",
    "    c+=1\n",
    "\n",
    "player = pd.DataFrame({'Batsmen':name, 'Team':team, 'Batting Style':bat_style, 'Bowling Style':bol_style,\n",
    "              'Playing Role':role, 'Image':image, 'Description':des})\n",
    "print(player.shape)"
   ]
  },
  {
   "cell_type": "markdown",
   "id": "bbc80a59",
   "metadata": {},
   "source": [
    "## Converting the Data into csv file"
   ]
  },
  {
   "cell_type": "code",
   "execution_count": 315,
   "id": "ca42eea5",
   "metadata": {},
   "outputs": [],
   "source": [
    "player.to_csv('Playerinfo.csv', index=False, index_label=False)"
   ]
  }
 ],
 "metadata": {
  "hide_input": false,
  "kernelspec": {
   "display_name": "Python 3 (ipykernel)",
   "language": "python",
   "name": "python3"
  },
  "language_info": {
   "codemirror_mode": {
    "name": "ipython",
    "version": 3
   },
   "file_extension": ".py",
   "mimetype": "text/x-python",
   "name": "python",
   "nbconvert_exporter": "python",
   "pygments_lexer": "ipython3",
   "version": "3.10.5"
  },
  "nbTranslate": {
   "displayLangs": [
    "*"
   ],
   "hotkey": "alt-t",
   "langInMainMenu": true,
   "sourceLang": "en",
   "targetLang": "fr",
   "useGoogleTranslate": true
  }
 },
 "nbformat": 4,
 "nbformat_minor": 5
}
