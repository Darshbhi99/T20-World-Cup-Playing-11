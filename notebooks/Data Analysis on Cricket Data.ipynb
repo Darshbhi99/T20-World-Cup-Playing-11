{
 "cells": [
  {
   "cell_type": "markdown",
   "id": "7ad8f204",
   "metadata": {},
   "source": [
    "## Loading the libraries"
   ]
  },
  {
   "cell_type": "code",
   "execution_count": 1,
   "id": "954babd3",
   "metadata": {},
   "outputs": [],
   "source": [
    "import pandas as pd\n",
    "import warnings \n",
    "warnings.filterwarnings('ignore')"
   ]
  },
  {
   "cell_type": "markdown",
   "id": "23f6daf3",
   "metadata": {},
   "source": [
    "## Loading the matches data"
   ]
  },
  {
   "cell_type": "code",
   "execution_count": 58,
   "id": "6bc8a004",
   "metadata": {},
   "outputs": [
    {
     "data": {
      "text/html": [
       "<div>\n",
       "<style scoped>\n",
       "    .dataframe tbody tr th:only-of-type {\n",
       "        vertical-align: middle;\n",
       "    }\n",
       "\n",
       "    .dataframe tbody tr th {\n",
       "        vertical-align: top;\n",
       "    }\n",
       "\n",
       "    .dataframe thead th {\n",
       "        text-align: right;\n",
       "    }\n",
       "</style>\n",
       "<table border=\"1\" class=\"dataframe\">\n",
       "  <thead>\n",
       "    <tr style=\"text-align: right;\">\n",
       "      <th></th>\n",
       "      <th>Team1</th>\n",
       "      <th>Team2</th>\n",
       "      <th>Winner</th>\n",
       "      <th>Margin</th>\n",
       "      <th>Ground</th>\n",
       "      <th>Date</th>\n",
       "      <th>Link</th>\n",
       "    </tr>\n",
       "  </thead>\n",
       "  <tbody>\n",
       "    <tr>\n",
       "      <th>0</th>\n",
       "      <td>West Indies</td>\n",
       "      <td>England</td>\n",
       "      <td>West Indies</td>\n",
       "      <td>9 wickets</td>\n",
       "      <td>Bridgetown</td>\n",
       "      <td>Jan 22, 2022</td>\n",
       "      <td>https://stats.espncricinfo.com/ci/engine/match...</td>\n",
       "    </tr>\n",
       "    <tr>\n",
       "      <th>1</th>\n",
       "      <td>West Indies</td>\n",
       "      <td>England</td>\n",
       "      <td>England</td>\n",
       "      <td>1 run</td>\n",
       "      <td>Bridgetown</td>\n",
       "      <td>Jan 23, 2022</td>\n",
       "      <td>https://stats.espncricinfo.com/ci/engine/match...</td>\n",
       "    </tr>\n",
       "    <tr>\n",
       "      <th>2</th>\n",
       "      <td>West Indies</td>\n",
       "      <td>England</td>\n",
       "      <td>West Indies</td>\n",
       "      <td>20 runs</td>\n",
       "      <td>Bridgetown</td>\n",
       "      <td>Jan 26, 2022</td>\n",
       "      <td>https://stats.espncricinfo.com/ci/engine/match...</td>\n",
       "    </tr>\n",
       "    <tr>\n",
       "      <th>3</th>\n",
       "      <td>West Indies</td>\n",
       "      <td>England</td>\n",
       "      <td>England</td>\n",
       "      <td>34 runs</td>\n",
       "      <td>Bridgetown</td>\n",
       "      <td>Jan 29, 2022</td>\n",
       "      <td>https://stats.espncricinfo.com/ci/engine/match...</td>\n",
       "    </tr>\n",
       "    <tr>\n",
       "      <th>4</th>\n",
       "      <td>West Indies</td>\n",
       "      <td>England</td>\n",
       "      <td>West Indies</td>\n",
       "      <td>17 runs</td>\n",
       "      <td>Bridgetown</td>\n",
       "      <td>Jan 30, 2022</td>\n",
       "      <td>https://stats.espncricinfo.com/ci/engine/match...</td>\n",
       "    </tr>\n",
       "  </tbody>\n",
       "</table>\n",
       "</div>"
      ],
      "text/plain": [
       "         Team1    Team2       Winner     Margin      Ground          Date  \\\n",
       "0  West Indies  England  West Indies  9 wickets  Bridgetown  Jan 22, 2022   \n",
       "1  West Indies  England      England      1 run  Bridgetown  Jan 23, 2022   \n",
       "2  West Indies  England  West Indies    20 runs  Bridgetown  Jan 26, 2022   \n",
       "3  West Indies  England      England    34 runs  Bridgetown  Jan 29, 2022   \n",
       "4  West Indies  England  West Indies    17 runs  Bridgetown  Jan 30, 2022   \n",
       "\n",
       "                                                Link  \n",
       "0  https://stats.espncricinfo.com/ci/engine/match...  \n",
       "1  https://stats.espncricinfo.com/ci/engine/match...  \n",
       "2  https://stats.espncricinfo.com/ci/engine/match...  \n",
       "3  https://stats.espncricinfo.com/ci/engine/match...  \n",
       "4  https://stats.espncricinfo.com/ci/engine/match...  "
      ]
     },
     "execution_count": 58,
     "metadata": {},
     "output_type": "execute_result"
    }
   ],
   "source": [
    "data = pd.read_csv('Matchesinfo.csv')\n",
    "data.head()"
   ]
  },
  {
   "cell_type": "markdown",
   "id": "85ab6e4a",
   "metadata": {},
   "source": [
    "## Adding the match_id column to the matches data"
   ]
  },
  {
   "cell_type": "code",
   "execution_count": 32,
   "id": "9f0023a8",
   "metadata": {},
   "outputs": [
    {
     "data": {
      "text/plain": [
       "(926, 8)"
      ]
     },
     "execution_count": 32,
     "metadata": {},
     "output_type": "execute_result"
    }
   ],
   "source": [
    "data['match_id'] = data['Link'].apply(lambda x: 'T20 # '+str(x.split('/')[-1].split('.')[0]))\n",
    "data.drop('Link', axis=1, inplace=True)"
   ]
  },
  {
   "cell_type": "markdown",
   "id": "58d0c4fe",
   "metadata": {},
   "source": [
    "## Saving the transformed match data csv file"
   ]
  },
  {
   "cell_type": "code",
   "execution_count": 36,
   "id": "4b389c9b",
   "metadata": {},
   "outputs": [],
   "source": [
    "df.to_csv('Transformed Data/matchesinfo.csv', index=False, index_label=False)"
   ]
  },
  {
   "cell_type": "markdown",
   "id": "df3c3e72",
   "metadata": {},
   "source": [
    "## Loading the batting data "
   ]
  },
  {
   "cell_type": "code",
   "execution_count": 42,
   "id": "9ac0f40a",
   "metadata": {},
   "outputs": [
    {
     "data": {
      "text/html": [
       "<div>\n",
       "<style scoped>\n",
       "    .dataframe tbody tr th:only-of-type {\n",
       "        vertical-align: middle;\n",
       "    }\n",
       "\n",
       "    .dataframe tbody tr th {\n",
       "        vertical-align: top;\n",
       "    }\n",
       "\n",
       "    .dataframe thead th {\n",
       "        text-align: right;\n",
       "    }\n",
       "</style>\n",
       "<table border=\"1\" class=\"dataframe\">\n",
       "  <thead>\n",
       "    <tr style=\"text-align: right;\">\n",
       "      <th></th>\n",
       "      <th>Match</th>\n",
       "      <th>Team</th>\n",
       "      <th>Position</th>\n",
       "      <th>Player</th>\n",
       "      <th>Runs</th>\n",
       "      <th>Balls</th>\n",
       "      <th>Fours</th>\n",
       "      <th>Sixes</th>\n",
       "      <th>Strike Rate</th>\n",
       "      <th>out/not out</th>\n",
       "      <th>match_id</th>\n",
       "    </tr>\n",
       "  </thead>\n",
       "  <tbody>\n",
       "    <tr>\n",
       "      <th>0</th>\n",
       "      <td>England vs West Indies</td>\n",
       "      <td>England</td>\n",
       "      <td>1</td>\n",
       "      <td>Jason Roy</td>\n",
       "      <td>6</td>\n",
       "      <td>6</td>\n",
       "      <td>0</td>\n",
       "      <td>1</td>\n",
       "      <td>100.00</td>\n",
       "      <td>out</td>\n",
       "      <td>T20 # 1256720</td>\n",
       "    </tr>\n",
       "    <tr>\n",
       "      <th>1</th>\n",
       "      <td>England vs West Indies</td>\n",
       "      <td>England</td>\n",
       "      <td>2</td>\n",
       "      <td>Tom Banton</td>\n",
       "      <td>4</td>\n",
       "      <td>5</td>\n",
       "      <td>1</td>\n",
       "      <td>0</td>\n",
       "      <td>80.00</td>\n",
       "      <td>out</td>\n",
       "      <td>T20 # 1256720</td>\n",
       "    </tr>\n",
       "    <tr>\n",
       "      <th>2</th>\n",
       "      <td>England vs West Indies</td>\n",
       "      <td>England</td>\n",
       "      <td>3</td>\n",
       "      <td>James Vince</td>\n",
       "      <td>14</td>\n",
       "      <td>12</td>\n",
       "      <td>2</td>\n",
       "      <td>1</td>\n",
       "      <td>116.66</td>\n",
       "      <td>out</td>\n",
       "      <td>T20 # 1256720</td>\n",
       "    </tr>\n",
       "    <tr>\n",
       "      <th>3</th>\n",
       "      <td>England vs West Indies</td>\n",
       "      <td>England</td>\n",
       "      <td>4</td>\n",
       "      <td>Moeen Ali</td>\n",
       "      <td>0</td>\n",
       "      <td>1</td>\n",
       "      <td>0</td>\n",
       "      <td>0</td>\n",
       "      <td>0.00</td>\n",
       "      <td>out</td>\n",
       "      <td>T20 # 1256720</td>\n",
       "    </tr>\n",
       "    <tr>\n",
       "      <th>4</th>\n",
       "      <td>England vs West Indies</td>\n",
       "      <td>England</td>\n",
       "      <td>5</td>\n",
       "      <td>Eoin Morgan</td>\n",
       "      <td>17</td>\n",
       "      <td>29</td>\n",
       "      <td>0</td>\n",
       "      <td>1</td>\n",
       "      <td>58.62</td>\n",
       "      <td>out</td>\n",
       "      <td>T20 # 1256720</td>\n",
       "    </tr>\n",
       "  </tbody>\n",
       "</table>\n",
       "</div>"
      ],
      "text/plain": [
       "                    Match     Team  Position       Player Runs Balls Fours  \\\n",
       "0  England vs West Indies  England         1    Jason Roy    6     6     0   \n",
       "1  England vs West Indies  England         2   Tom Banton    4     5     1   \n",
       "2  England vs West Indies  England         3  James Vince   14    12     2   \n",
       "3  England vs West Indies  England         4    Moeen Ali    0     1     0   \n",
       "4  England vs West Indies  England         5  Eoin Morgan   17    29     0   \n",
       "\n",
       "  Sixes Strike Rate out/not out       match_id  \n",
       "0     1      100.00         out  T20 # 1256720  \n",
       "1     0       80.00         out  T20 # 1256720  \n",
       "2     1      116.66         out  T20 # 1256720  \n",
       "3     0        0.00         out  T20 # 1256720  \n",
       "4     1       58.62         out  T20 # 1256720  "
      ]
     },
     "execution_count": 42,
     "metadata": {},
     "output_type": "execute_result"
    }
   ],
   "source": [
    "bat = pd.read_csv('Transformed Data/battinginfo.csv')\n",
    "bat.head()"
   ]
  },
  {
   "cell_type": "markdown",
   "id": "2950495c",
   "metadata": {},
   "source": [
    "## Renaming the columns"
   ]
  },
  {
   "cell_type": "code",
   "execution_count": 40,
   "id": "f1dde483",
   "metadata": {},
   "outputs": [
    {
     "data": {
      "text/html": [
       "<div>\n",
       "<style scoped>\n",
       "    .dataframe tbody tr th:only-of-type {\n",
       "        vertical-align: middle;\n",
       "    }\n",
       "\n",
       "    .dataframe tbody tr th {\n",
       "        vertical-align: top;\n",
       "    }\n",
       "\n",
       "    .dataframe thead th {\n",
       "        text-align: right;\n",
       "    }\n",
       "</style>\n",
       "<table border=\"1\" class=\"dataframe\">\n",
       "  <thead>\n",
       "    <tr style=\"text-align: right;\">\n",
       "      <th></th>\n",
       "      <th>Match</th>\n",
       "      <th>Team</th>\n",
       "      <th>Position</th>\n",
       "      <th>Player</th>\n",
       "      <th>Runs</th>\n",
       "      <th>Balls</th>\n",
       "      <th>Fours</th>\n",
       "      <th>Sixes</th>\n",
       "      <th>Strike Rate</th>\n",
       "      <th>out/not out</th>\n",
       "      <th>match_id</th>\n",
       "    </tr>\n",
       "  </thead>\n",
       "  <tbody>\n",
       "    <tr>\n",
       "      <th>0</th>\n",
       "      <td>England vs West Indies</td>\n",
       "      <td>England</td>\n",
       "      <td>1</td>\n",
       "      <td>Jason Roy</td>\n",
       "      <td>6</td>\n",
       "      <td>6</td>\n",
       "      <td>0</td>\n",
       "      <td>1</td>\n",
       "      <td>100.00</td>\n",
       "      <td>out</td>\n",
       "      <td>T20 # 1256720</td>\n",
       "    </tr>\n",
       "    <tr>\n",
       "      <th>1</th>\n",
       "      <td>England vs West Indies</td>\n",
       "      <td>England</td>\n",
       "      <td>2</td>\n",
       "      <td>Tom Banton</td>\n",
       "      <td>4</td>\n",
       "      <td>5</td>\n",
       "      <td>1</td>\n",
       "      <td>0</td>\n",
       "      <td>80.00</td>\n",
       "      <td>out</td>\n",
       "      <td>T20 # 1256720</td>\n",
       "    </tr>\n",
       "    <tr>\n",
       "      <th>2</th>\n",
       "      <td>England vs West Indies</td>\n",
       "      <td>England</td>\n",
       "      <td>3</td>\n",
       "      <td>James Vince</td>\n",
       "      <td>14</td>\n",
       "      <td>12</td>\n",
       "      <td>2</td>\n",
       "      <td>1</td>\n",
       "      <td>116.66</td>\n",
       "      <td>out</td>\n",
       "      <td>T20 # 1256720</td>\n",
       "    </tr>\n",
       "    <tr>\n",
       "      <th>3</th>\n",
       "      <td>England vs West Indies</td>\n",
       "      <td>England</td>\n",
       "      <td>4</td>\n",
       "      <td>Moeen Ali</td>\n",
       "      <td>0</td>\n",
       "      <td>1</td>\n",
       "      <td>0</td>\n",
       "      <td>0</td>\n",
       "      <td>0.00</td>\n",
       "      <td>out</td>\n",
       "      <td>T20 # 1256720</td>\n",
       "    </tr>\n",
       "    <tr>\n",
       "      <th>4</th>\n",
       "      <td>England vs West Indies</td>\n",
       "      <td>England</td>\n",
       "      <td>5</td>\n",
       "      <td>Eoin Morgan</td>\n",
       "      <td>17</td>\n",
       "      <td>29</td>\n",
       "      <td>0</td>\n",
       "      <td>1</td>\n",
       "      <td>58.62</td>\n",
       "      <td>out</td>\n",
       "      <td>T20 # 1256720</td>\n",
       "    </tr>\n",
       "  </tbody>\n",
       "</table>\n",
       "</div>"
      ],
      "text/plain": [
       "                    Match     Team  Position       Player Runs Balls Fours  \\\n",
       "0  England vs West Indies  England         1    Jason Roy    6     6     0   \n",
       "1  England vs West Indies  England         2   Tom Banton    4     5     1   \n",
       "2  England vs West Indies  England         3  James Vince   14    12     2   \n",
       "3  England vs West Indies  England         4    Moeen Ali    0     1     0   \n",
       "4  England vs West Indies  England         5  Eoin Morgan   17    29     0   \n",
       "\n",
       "  Sixes Strike Rate out/not out       match_id  \n",
       "0     1      100.00         out  T20 # 1256720  \n",
       "1     0       80.00         out  T20 # 1256720  \n",
       "2     1      116.66         out  T20 # 1256720  \n",
       "3     0        0.00         out  T20 # 1256720  \n",
       "4     1       58.62         out  T20 # 1256720  "
      ]
     },
     "execution_count": 40,
     "metadata": {},
     "output_type": "execute_result"
    }
   ],
   "source": [
    "bat.rename(columns={'Batsmen':'Player'}, inplace=True)"
   ]
  },
  {
   "cell_type": "markdown",
   "id": "0041c519",
   "metadata": {},
   "source": [
    "## Adding the 'out/not out' column to the data"
   ]
  },
  {
   "cell_type": "code",
   "execution_count": 89,
   "id": "cefc91ff",
   "metadata": {},
   "outputs": [
    {
     "data": {
      "text/plain": [
       "out        11913\n",
       "not out     3199\n",
       "Name: out/not out, dtype: int64"
      ]
     },
     "execution_count": 89,
     "metadata": {},
     "output_type": "execute_result"
    }
   ],
   "source": [
    "data2['out/not out'].value_counts()"
   ]
  },
  {
   "cell_type": "code",
   "execution_count": 85,
   "id": "444b3c96",
   "metadata": {},
   "outputs": [
    {
     "data": {
      "text/plain": [
       "(15112, 12)"
      ]
     },
     "execution_count": 85,
     "metadata": {},
     "output_type": "execute_result"
    }
   ],
   "source": [
    "data2['out/not out'] = data2['Dismissal'].apply(lambda x: 'out' if x!='not out ' else 'not out')\n",
    "data2.shape"
   ]
  },
  {
   "cell_type": "markdown",
   "id": "40838040",
   "metadata": {},
   "source": [
    "## Removing the Link and Dismissals column from the data"
   ]
  },
  {
   "cell_type": "code",
   "execution_count": 90,
   "id": "4caa2825",
   "metadata": {},
   "outputs": [],
   "source": [
    "data2.drop(['Link','Dismissal'], axis=1, inplace = True)"
   ]
  },
  {
   "cell_type": "markdown",
   "id": "d46d7d64",
   "metadata": {},
   "source": [
    "## Program to add match_id to every player in batsmen info data"
   ]
  },
  {
   "cell_type": "code",
   "execution_count": 181,
   "id": "1daa5c91",
   "metadata": {},
   "outputs": [],
   "source": [
    "m = 0\n",
    "c = 0\n",
    "for i in range(bat.shape[0]):# 0 - 15112\n",
    "    bat['match_id'][i] = mat['match_id'][m]\n",
    "    if bat['Position'][i]==1:\n",
    "        c+=1\n",
    "        if c==3:\n",
    "            c=1\n",
    "            m+=1\n",
    "            bat['match_id'][i]=mat['match_id'][m]"
   ]
  },
  {
   "cell_type": "markdown",
   "id": "51e37577",
   "metadata": {},
   "source": [
    "## Saving the transformed batting data to csv"
   ]
  },
  {
   "cell_type": "code",
   "execution_count": 41,
   "id": "d629dbfb",
   "metadata": {},
   "outputs": [],
   "source": [
    "bat.to_csv('Transformed Data/battinginfo.csv', index=False, index_label=False)"
   ]
  },
  {
   "cell_type": "markdown",
   "id": "9d6a3418",
   "metadata": {},
   "source": [
    "## Loading the bowling data and dropping the Link column"
   ]
  },
  {
   "cell_type": "code",
   "execution_count": 2,
   "id": "c04d3444",
   "metadata": {},
   "outputs": [],
   "source": [
    "ball = pd.read_csv('Bowlinginfo.csv')\n",
    "ball.drop('Link', axis=1, inplace=True)"
   ]
  },
  {
   "cell_type": "markdown",
   "id": "f0bb8532",
   "metadata": {},
   "source": [
    "## Loading the transformed matches column"
   ]
  },
  {
   "cell_type": "code",
   "execution_count": 33,
   "id": "c9a8e5b1",
   "metadata": {},
   "outputs": [
    {
     "data": {
      "text/html": [
       "<div>\n",
       "<style scoped>\n",
       "    .dataframe tbody tr th:only-of-type {\n",
       "        vertical-align: middle;\n",
       "    }\n",
       "\n",
       "    .dataframe tbody tr th {\n",
       "        vertical-align: top;\n",
       "    }\n",
       "\n",
       "    .dataframe thead th {\n",
       "        text-align: right;\n",
       "    }\n",
       "</style>\n",
       "<table border=\"1\" class=\"dataframe\">\n",
       "  <thead>\n",
       "    <tr style=\"text-align: right;\">\n",
       "      <th></th>\n",
       "      <th>Team1</th>\n",
       "      <th>Team2</th>\n",
       "      <th>Winner</th>\n",
       "      <th>Margin</th>\n",
       "      <th>Ground</th>\n",
       "      <th>Date</th>\n",
       "      <th>match_id</th>\n",
       "    </tr>\n",
       "  </thead>\n",
       "  <tbody>\n",
       "    <tr>\n",
       "      <th>0</th>\n",
       "      <td>West Indies</td>\n",
       "      <td>England</td>\n",
       "      <td>West Indies</td>\n",
       "      <td>9 wickets</td>\n",
       "      <td>Bridgetown</td>\n",
       "      <td>22-Jan-22</td>\n",
       "      <td>T20 # 1256720</td>\n",
       "    </tr>\n",
       "    <tr>\n",
       "      <th>1</th>\n",
       "      <td>West Indies</td>\n",
       "      <td>England</td>\n",
       "      <td>England</td>\n",
       "      <td>1 run</td>\n",
       "      <td>Bridgetown</td>\n",
       "      <td>23-Jan-22</td>\n",
       "      <td>T20 # 1256721</td>\n",
       "    </tr>\n",
       "    <tr>\n",
       "      <th>2</th>\n",
       "      <td>West Indies</td>\n",
       "      <td>England</td>\n",
       "      <td>West Indies</td>\n",
       "      <td>20 runs</td>\n",
       "      <td>Bridgetown</td>\n",
       "      <td>26-Jan-22</td>\n",
       "      <td>T20 # 1256722</td>\n",
       "    </tr>\n",
       "    <tr>\n",
       "      <th>3</th>\n",
       "      <td>West Indies</td>\n",
       "      <td>England</td>\n",
       "      <td>England</td>\n",
       "      <td>34 runs</td>\n",
       "      <td>Bridgetown</td>\n",
       "      <td>29-Jan-22</td>\n",
       "      <td>T20 # 1256723</td>\n",
       "    </tr>\n",
       "    <tr>\n",
       "      <th>4</th>\n",
       "      <td>West Indies</td>\n",
       "      <td>England</td>\n",
       "      <td>West Indies</td>\n",
       "      <td>17 runs</td>\n",
       "      <td>Bridgetown</td>\n",
       "      <td>30-Jan-22</td>\n",
       "      <td>T20 # 1256724</td>\n",
       "    </tr>\n",
       "  </tbody>\n",
       "</table>\n",
       "</div>"
      ],
      "text/plain": [
       "         Team1    Team2       Winner     Margin      Ground       Date  \\\n",
       "0  West Indies  England  West Indies  9 wickets  Bridgetown  22-Jan-22   \n",
       "1  West Indies  England      England      1 run  Bridgetown  23-Jan-22   \n",
       "2  West Indies  England  West Indies    20 runs  Bridgetown  26-Jan-22   \n",
       "3  West Indies  England      England    34 runs  Bridgetown  29-Jan-22   \n",
       "4  West Indies  England  West Indies    17 runs  Bridgetown  30-Jan-22   \n",
       "\n",
       "        match_id  \n",
       "0  T20 # 1256720  \n",
       "1  T20 # 1256721  \n",
       "2  T20 # 1256722  \n",
       "3  T20 # 1256723  \n",
       "4  T20 # 1256724  "
      ]
     },
     "execution_count": 33,
     "metadata": {},
     "output_type": "execute_result"
    }
   ],
   "source": [
    "mat = pd.read_csv('Transformed Data/matchesinfo.csv')\n",
    "mat.head()"
   ]
  },
  {
   "cell_type": "markdown",
   "id": "d7e6ce5f",
   "metadata": {},
   "source": [
    "## Program to add match_id to the bowling data"
   ]
  },
  {
   "cell_type": "code",
   "execution_count": 25,
   "id": "b5693b63",
   "metadata": {},
   "outputs": [],
   "source": [
    "m = 0\n",
    "c = 0\n",
    "for i in range(ball.shape[0]-1):\n",
    "    x = ball['Team'][i]\n",
    "    ball['match_id'][i] = mat['match_id'][m]\n",
    "    if (ball['Match'][i] != ball['Match'][i+1]):\n",
    "        m+=1\n",
    "        c=0\n",
    "    elif (x!=ball['Team'][i+1]):\n",
    "        c+=1\n",
    "        if c==2:\n",
    "            c=0\n",
    "            m+=1\n",
    "    ball['match_id'][11110] = mat['match_id'][925]"
   ]
  },
  {
   "cell_type": "markdown",
   "id": "38735439",
   "metadata": {},
   "source": [
    "## Rename the bowler column to player"
   ]
  },
  {
   "cell_type": "code",
   "execution_count": null,
   "id": "5c28031a",
   "metadata": {},
   "outputs": [],
   "source": [
    "ball.rename(columns={'Bowler':'Player'}, inplace=True)"
   ]
  },
  {
   "cell_type": "markdown",
   "id": "c15d8848",
   "metadata": {},
   "source": [
    "## Saving the transformed bowler's data"
   ]
  },
  {
   "cell_type": "code",
   "execution_count": 32,
   "id": "57c2f1b6",
   "metadata": {},
   "outputs": [],
   "source": [
    "ball.to_csv('Transformed Data/bowlerinfo.csv', index=False, index_label=False)"
   ]
  },
  {
   "cell_type": "markdown",
   "id": "fa4cdb90",
   "metadata": {},
   "source": [
    "## Loading the player's data"
   ]
  },
  {
   "cell_type": "code",
   "execution_count": 2,
   "id": "0fccfafb",
   "metadata": {},
   "outputs": [
    {
     "data": {
      "text/plain": [
       "(2057, 7)"
      ]
     },
     "execution_count": 2,
     "metadata": {},
     "output_type": "execute_result"
    }
   ],
   "source": [
    "player = pd.read_csv('Playerinfo.csv')\n",
    "player.shape"
   ]
  },
  {
   "cell_type": "markdown",
   "id": "1c1e1a45",
   "metadata": {},
   "source": [
    "## Getting the data with image links "
   ]
  },
  {
   "cell_type": "code",
   "execution_count": 3,
   "id": "a359b8cf",
   "metadata": {},
   "outputs": [],
   "source": [
    "player_with_images = player[player['Image'].notnull()]"
   ]
  },
  {
   "cell_type": "markdown",
   "id": "9738a73c",
   "metadata": {},
   "source": [
    "## Getting the data with descriptions"
   ]
  },
  {
   "cell_type": "code",
   "execution_count": 4,
   "id": "7b8a45c6",
   "metadata": {},
   "outputs": [
    {
     "data": {
      "text/plain": [
       "(372, 7)"
      ]
     },
     "execution_count": 4,
     "metadata": {},
     "output_type": "execute_result"
    }
   ],
   "source": [
    "player_with_images = player_with_images[player_with_images['Description'].notnull()]\n",
    "player_with_images.shape"
   ]
  },
  {
   "cell_type": "markdown",
   "id": "15427ffc",
   "metadata": {},
   "source": [
    "## Renaming the column batsmen to player"
   ]
  },
  {
   "cell_type": "code",
   "execution_count": 81,
   "id": "8d7b08a9",
   "metadata": {},
   "outputs": [],
   "source": [
    "player_with_images.rename(columns={'Batsmen':'Player'}, inplace=True)"
   ]
  },
  {
   "cell_type": "markdown",
   "id": "68136d13",
   "metadata": {},
   "source": [
    "## Saving the player data into csv"
   ]
  },
  {
   "cell_type": "code",
   "execution_count": 17,
   "id": "fe2e8ced",
   "metadata": {},
   "outputs": [],
   "source": [
    "player_with_images.to_csv('Transformed Data/image_player.csv', index=False, index_label=False)"
   ]
  }
 ],
 "metadata": {
  "hide_input": false,
  "kernelspec": {
   "display_name": "Python 3 (ipykernel)",
   "language": "python",
   "name": "python3"
  },
  "language_info": {
   "codemirror_mode": {
    "name": "ipython",
    "version": 3
   },
   "file_extension": ".py",
   "mimetype": "text/x-python",
   "name": "python",
   "nbconvert_exporter": "python",
   "pygments_lexer": "ipython3",
   "version": "3.10.5"
  },
  "nbTranslate": {
   "displayLangs": [
    "*"
   ],
   "hotkey": "alt-t",
   "langInMainMenu": true,
   "sourceLang": "en",
   "targetLang": "fr",
   "useGoogleTranslate": true
  }
 },
 "nbformat": 4,
 "nbformat_minor": 5
}
